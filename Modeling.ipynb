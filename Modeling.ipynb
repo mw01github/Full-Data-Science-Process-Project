{
 "cells": [
  {
   "cell_type": "code",
   "execution_count": 27,
   "metadata": {},
   "outputs": [],
   "source": [
    "import numpy as np\n",
    "import pandas as pd\n",
    "import matplotlib.pyplot as plt\n",
    "import seaborn as sns\n",
    "\n",
    "df = pd.read_csv('videos.csv')"
   ]
  },
  {
   "cell_type": "code",
   "execution_count": 101,
   "metadata": {},
   "outputs": [],
   "source": [
    "X = df.drop('likeCount', axis=1)\n",
    "y = df['likeCount']\n",
    "\n",
    "from sklearn import model_selection\n",
    "X_train, X_test, y_train, y_test = model_selection.train_test_split(X, y, test_size=0.2, random_state=42)"
   ]
  },
  {
   "cell_type": "code",
   "execution_count": 143,
   "metadata": {},
   "outputs": [],
   "source": [
    "from sklearn.base import BaseEstimator, TransformerMixin\n",
    "from textblob import TextBlob\n",
    "\n",
    "class FeatureEngineer(BaseEstimator, TransformerMixin):\n",
    "    def __init__(self):\n",
    "        #super().__init__()\n",
    "        pass\n",
    "    def fit(self, X, y=None):\n",
    "        return self\n",
    "    def transform(self, X):\n",
    "        date = pd.to_datetime(X['publishedAt'], format='%Y-%m-%dT%H:%M:%SZ') #modify date data type\n",
    "\n",
    "        hours = pd.to_numeric(X['duration'].str.extract('(\\d+H)').squeeze().str[:-1].fillna(0))\n",
    "        mins = pd.to_numeric(X['duration'].str.extract('(\\d+M)').squeeze().str[:-1].fillna(0))\n",
    "        seconds = pd.to_numeric(X['duration'].str.extract('(\\d+S)').squeeze().str[:-1].fillna(0)) + hours * 3600 + mins * 60\n",
    "\n",
    "        title = X['title'].apply(lambda x: TextBlob(x).sentiment)\n",
    "        tags = X['tags'].str.join(' ').apply(lambda x: TextBlob(x).sentiment)\n",
    "\n",
    "        return np.c_[date.dt.year,\n",
    "                     date.dt.month,\n",
    "                     date.dt.day,\n",
    "                     date.dt.hour,\n",
    "                     date.dt.minute,\n",
    "                     date.dt.dayofweek,\n",
    "                     date.dt.dayofyear,\n",
    "                     seconds,\n",
    "                     title.str[0],\n",
    "                     title.str[1],\n",
    "                     tags.str[0],\n",
    "                     tags.str[1],\n",
    "                     X[['viewCount', 'commentCount']]]"
   ]
  },
  {
   "cell_type": "code",
   "execution_count": 146,
   "metadata": {},
   "outputs": [
    {
     "name": "stderr",
     "output_type": "stream",
     "text": [
      "/Library/Frameworks/Python.framework/Versions/3.11/lib/python3.11/site-packages/sklearn/preprocessing/_data.py:2667: UserWarning: n_quantiles (1000) is greater than the total number of samples (400). n_quantiles is set to n_samples.\n",
      "  warnings.warn(\n"
     ]
    }
   ],
   "source": [
    "from sklearn.pipeline import Pipeline\n",
    "from sklearn.preprocessing import QuantileTransformer\n",
    "\n",
    "full_pipeline = Pipeline([\n",
    "    ('featureEngineer', FeatureEngineer()),\n",
    "    ('quantileTransform', QuantileTransformer(output_distribution='normal', random_state=0))\n",
    "])\n",
    "\n",
    "X_train_prepared = full_pipeline.fit_transform(X_train)"
   ]
  },
  {
   "cell_type": "code",
   "execution_count": 147,
   "metadata": {},
   "outputs": [
    {
     "data": {
      "text/plain": [
       "array([ 0.45233486,  0.27848128, -0.08561997,  0.19310565,  0.45544184])"
      ]
     },
     "execution_count": 147,
     "metadata": {},
     "output_type": "execute_result"
    }
   ],
   "source": [
    "from sklearn.linear_model import LinearRegression\n",
    "lr = LinearRegression()\n",
    "\n",
    "from sklearn.model_selection import cross_validate\n",
    "result = cross_validate(lr, X_train_prepared, y_train)\n",
    "result['test_score']"
   ]
  },
  {
   "cell_type": "code",
   "execution_count": 149,
   "metadata": {},
   "outputs": [
    {
     "name": "stdout",
     "output_type": "stream",
     "text": [
      "\n",
      "Lasso score: 114818.9672 (33511.3711)\n",
      "\n"
     ]
    }
   ],
   "source": [
    "from sklearn.linear_model import ElasticNet, Lasso,  BayesianRidge, LassoLarsIC\n",
    "from sklearn.ensemble import RandomForestRegressor,  GradientBoostingRegressor\n",
    "from sklearn.kernel_ridge import KernelRidge\n",
    "from sklearn.pipeline import make_pipeline\n",
    "from sklearn.preprocessing import RobustScaler\n",
    "from sklearn.base import BaseEstimator, TransformerMixin, RegressorMixin, clone\n",
    "from sklearn.model_selection import KFold, cross_val_score, train_test_split\n",
    "from sklearn.metrics import mean_squared_error\n",
    "import xgboost as xgb\n",
    "\n",
    "#Validation function\n",
    "n_folds = 5\n",
    "\n",
    "def rmsle_cv(model):\n",
    "    kf = KFold(n_folds, shuffle=True, random_state=42).get_n_splits(X_train_prepared)\n",
    "    rmse= np.sqrt(-cross_val_score(model, X_train_prepared, y_train, scoring=\"neg_mean_squared_error\", cv = kf))\n",
    "    return(rmse)\n",
    "\n",
    "lasso = Lasso(alpha =0.0005, random_state=1)\n",
    "\n",
    "score = rmsle_cv(lasso)\n",
    "print(\"\\nLasso score: {:.4f} ({:.4f})\\n\".format(score.mean(), score.std()))"
   ]
  }
 ],
 "metadata": {
  "kernelspec": {
   "display_name": "Python 3",
   "language": "python",
   "name": "python3"
  },
  "language_info": {
   "codemirror_mode": {
    "name": "ipython",
    "version": 3
   },
   "file_extension": ".py",
   "mimetype": "text/x-python",
   "name": "python",
   "nbconvert_exporter": "python",
   "pygments_lexer": "ipython3",
   "version": "3.11.4"
  },
  "orig_nbformat": 4
 },
 "nbformat": 4,
 "nbformat_minor": 2
}
