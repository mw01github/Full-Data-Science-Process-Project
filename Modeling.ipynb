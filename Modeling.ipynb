{
 "cells": [
  {
   "cell_type": "code",
   "execution_count": 64,
   "metadata": {},
   "outputs": [],
   "source": [
    "import numpy as np\n",
    "import pandas as pd\n",
    "import matplotlib.pyplot as plt\n",
    "import seaborn as sns\n",
    "\n",
    "import warnings\n",
    "def ignore_warn(*args, **kwargs):\n",
    "    pass\n",
    "warnings.warn = ignore_warn \n",
    "\n",
    "df = pd.read_csv('videos.csv')"
   ]
  },
  {
   "cell_type": "code",
   "execution_count": 65,
   "metadata": {},
   "outputs": [],
   "source": [
    "X = df.drop('likeCount', axis=1)\n",
    "y = df['likeCount']\n",
    "\n",
    "from sklearn import model_selection\n",
    "X_train, X_test, y_train, y_test = model_selection.train_test_split(X, y, test_size=0.2, random_state=42)"
   ]
  },
  {
   "cell_type": "code",
   "execution_count": 66,
   "metadata": {},
   "outputs": [],
   "source": [
    "from sklearn.base import BaseEstimator, TransformerMixin\n",
    "from textblob import TextBlob\n",
    "\n",
    "class FeatureEngineer(BaseEstimator, TransformerMixin):\n",
    "    def __init__(self):\n",
    "        #super().__init__()\n",
    "        pass\n",
    "    def fit(self, X, y=None):\n",
    "        return self\n",
    "    def transform(self, X):\n",
    "        date = pd.to_datetime(X['publishedAt'], format='%Y-%m-%dT%H:%M:%SZ') #modify date data type\n",
    "\n",
    "        hours = pd.to_numeric(X['duration'].str.extract('(\\d+H)').squeeze().str[:-1].fillna(0))\n",
    "        mins = pd.to_numeric(X['duration'].str.extract('(\\d+M)').squeeze().str[:-1].fillna(0))\n",
    "        seconds = pd.to_numeric(X['duration'].str.extract('(\\d+S)').squeeze().str[:-1].fillna(0)) + hours * 3600 + mins * 60\n",
    "\n",
    "        title = X['title'].apply(lambda x: TextBlob(x).sentiment)\n",
    "        tags = X['tags'].str.join(' ').apply(lambda x: TextBlob(x).sentiment)\n",
    "\n",
    "        return np.c_[date.dt.year,\n",
    "                     date.dt.month,\n",
    "                     date.dt.day,\n",
    "                     date.dt.hour,\n",
    "                     date.dt.minute,\n",
    "                     date.dt.dayofweek,\n",
    "                     date.dt.dayofyear,\n",
    "                     seconds,\n",
    "                     title.str[0],\n",
    "                     title.str[1],\n",
    "                     tags.str[0],\n",
    "                     tags.str[1],\n",
    "                     X[['viewCount', 'commentCount']]]"
   ]
  },
  {
   "cell_type": "code",
   "execution_count": 67,
   "metadata": {},
   "outputs": [],
   "source": [
    "from sklearn.pipeline import Pipeline\n",
    "from sklearn.preprocessing import QuantileTransformer, RobustScaler\n",
    "\n",
    "full_pipeline = Pipeline([\n",
    "    ('featureEngineer', FeatureEngineer()),\n",
    "    #('quantileTransform', QuantileTransformer(output_distribution='normal', random_state=0))\n",
    "    ('robustScaler', RobustScaler())\n",
    "])\n",
    "\n",
    "X_train_prepared = full_pipeline.fit_transform(X_train)"
   ]
  },
  {
   "cell_type": "code",
   "execution_count": 69,
   "metadata": {},
   "outputs": [
    {
     "name": "stdout",
     "output_type": "stream",
     "text": [
      "mean: 0.9242912748256902 | std: 0.041219611694107275\n",
      "mean: 0.9240930896225666 | std: 0.040917908896351524\n",
      "mean: 0.9247444400926819 | std: 0.04674505859883021\n"
     ]
    }
   ],
   "source": [
    "from sklearn.model_selection import cross_validate, cross_val_score\n",
    "\n",
    "def rmsle_cv(model):\n",
    "    return np.sqrt(-cross_val_score(model, X_train_prepared, y_train, scoring=\"neg_mean_squared_error\", cv = 5))\n",
    "\n",
    "def r_sqr(model):\n",
    "    result = cross_validate(model, X_train_prepared, y_train)\n",
    "    print('mean:', result['test_score'].mean(), '| std:', result['test_score'].std())\n",
    "\n",
    "from sklearn.linear_model import LinearRegression, ElasticNet, Lasso,  BayesianRidge, LassoLarsIC\n",
    "from sklearn.ensemble import RandomForestRegressor,  GradientBoostingRegressor\n",
    "from sklearn.kernel_ridge import KernelRidge\n",
    "from sklearn.preprocessing import RobustScaler\n",
    "from sklearn.base import BaseEstimator, TransformerMixin, RegressorMixin, clone\n",
    "from sklearn.model_selection import KFold\n",
    "from sklearn.metrics import mean_squared_error\n",
    "import xgboost as xgb\n",
    "\n",
    "r_sqr(LinearRegression())\n",
    "r_sqr(Lasso(alpha =0.0005, random_state=1))\n",
    "r_sqr(ElasticNet())\n",
    "\n"
   ]
  },
  {
   "cell_type": "code",
   "execution_count": 70,
   "metadata": {},
   "outputs": [
    {
     "data": {
      "text/plain": [
       "0.8534868746569868"
      ]
     },
     "execution_count": 70,
     "metadata": {},
     "output_type": "execute_result"
    }
   ],
   "source": [
    "lr = LinearRegression().fit(X_train_prepared, y_train)\n",
    "lr.score(full_pipeline.transform(X_test), y_test)"
   ]
  }
 ],
 "metadata": {
  "kernelspec": {
   "display_name": "Python 3",
   "language": "python",
   "name": "python3"
  },
  "language_info": {
   "codemirror_mode": {
    "name": "ipython",
    "version": 3
   },
   "file_extension": ".py",
   "mimetype": "text/x-python",
   "name": "python",
   "nbconvert_exporter": "python",
   "pygments_lexer": "ipython3",
   "version": "3.11.4"
  },
  "orig_nbformat": 4
 },
 "nbformat": 4,
 "nbformat_minor": 2
}
