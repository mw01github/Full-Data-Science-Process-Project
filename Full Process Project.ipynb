{
 "cells": [
  {
   "cell_type": "code",
   "execution_count": 2,
   "metadata": {},
   "outputs": [],
   "source": [
    "import pandas as pd\n",
    "import requests\n",
    "import mysql.connector"
   ]
  },
  {
   "cell_type": "code",
   "execution_count": 6,
   "metadata": {},
   "outputs": [],
   "source": [
    "API_KEY = ''\n",
    "CHANNEL_ID = 'UC2UXDak6o7rBm23k3Vv5dww'\n",
    "PAGE_TOKEN = ''\n",
    "\n",
    "searchUrl = 'https://www.googleapis.com/youtube/v3/search?key=' + API_KEY + '&part=snippet' + '&type=video' + '&channelId=UCG5qGWdu8nIRZqJ_GgDwQ-w' + '&order=date' + '&maxResults=50' + '&pageToken='\n",
    "videosUrl = 'https://www.googleapis.com/youtube/v3/videos?key=' + API_KEY + '&part=snippet,contentDetails,statistics' + '&id='\n",
    "\n",
    "df = pd.DataFrame(columns=['videoId', 'publishedAt', 'title', 'tags', 'duration', 'viewCount', 'likeCount', 'commentCount'])"
   ]
  },
  {
   "cell_type": "code",
   "execution_count": 7,
   "metadata": {},
   "outputs": [
    {
     "name": "stdout",
     "output_type": "stream",
     "text": [
      "0\n",
      "50\n",
      "100\n",
      "150\n",
      "200\n",
      "250\n",
      "300\n",
      "350\n",
      "400\n",
      "450\n",
      "500\n"
     ]
    }
   ],
   "source": [
    "while True:\n",
    "    try:\n",
    "        searchResponse = requests.get(searchUrl + PAGE_TOKEN).json()\n",
    "        PAGE_TOKEN = searchResponse['nextPageToken']\n",
    "        print(len(df.index))\n",
    "\n",
    "        for video in searchResponse['items']:\n",
    "            videoId = video['id']['videoId']\n",
    "            videoResponse = requests.get(videosUrl + videoId).json()\n",
    "            \n",
    "            publishedAt = videoResponse['items'][0]['snippet']['publishedAt']\n",
    "            title = videoResponse['items'][0]['snippet']['title']\n",
    "            tags = videoResponse['items'][0]['snippet']['tags']\n",
    "\n",
    "            duration = videoResponse['items'][0]['contentDetails']['duration']\n",
    "\n",
    "            viewCount = videoResponse['items'][0]['statistics']['viewCount']\n",
    "            likeCount = videoResponse['items'][0]['statistics']['likeCount']\n",
    "            commentCount = videoResponse['items'][0]['statistics']['commentCount']\n",
    "\n",
    "            df = df.append({'videoId' : videoId, \n",
    "                            'publishedAt' : publishedAt, \n",
    "                            'title' : title, \n",
    "                            'tags' : tags,\n",
    "                            'duration' : duration,\n",
    "                            'viewCount' : viewCount,\n",
    "                            'likeCount' : likeCount,\n",
    "                            'commentCount' : commentCount}, ignore_index=True)\n",
    "    except:\n",
    "        print(len(df.index))\n",
    "        break"
   ]
  },
  {
   "cell_type": "code",
   "execution_count": 10,
   "metadata": {},
   "outputs": [],
   "source": [
    "df\n",
    "\n",
    "#df.to_csv(\"videos.csv\")"
   ]
  },
  {
   "cell_type": "code",
   "execution_count": 90,
   "metadata": {},
   "outputs": [
    {
     "name": "stdout",
     "output_type": "stream",
     "text": [
      "<mysql.connector.connection_cext.CMySQLConnection object at 0x0000026286FB3130>\n"
     ]
    }
   ],
   "source": [
    "mydb = mysql.connector.connect(\n",
    "  host='localhost',\n",
    "  user='root',\n",
    "  password='Justocker70',\n",
    "  database ='dfdb'\n",
    ")\n",
    "print(mydb)\n",
    "mycursor = mydb.cursor()"
   ]
  },
  {
   "cell_type": "code",
   "execution_count": 41,
   "metadata": {},
   "outputs": [],
   "source": [
    "#mycursor.execute('CREATE DATABASE dfdb')\n",
    "\n",
    "#mycursor.execute('SHOW DATABASES')\n",
    "#for db in mycursor:\n",
    "#    print(db)\n",
    "\n",
    "#mycursor.execute(\"\"\"\n",
    "#CREATE TABLE IF NOT EXISTS original (\n",
    "#  video_id VARCHAR(255) PRIMARY KEY,\n",
    "#  upload_date TEXT,\n",
    "#  video_title TEXT,\n",
    "#  video_tags TEXT,\n",
    "#  video_duration TEXT,\n",
    "#  video_view INTEGER,\n",
    "#  video_like INTEGER,\n",
    "#  video_comment INTEGER\n",
    "#)\"\"\")"
   ]
  },
  {
   "cell_type": "code",
   "execution_count": 91,
   "metadata": {},
   "outputs": [],
   "source": [
    "checkFormula = 'SELECT video_id FROM original WHERE video_id=%s'\n",
    "updateForumla = 'UPDATE original SET video_view = %s, video_like = %s, video_comment = %s WHERE video_id = %s;'\n",
    "insertForumla = 'INSERT INTO original (video_id, upload_date, video_title, video_tags, video_duration, video_view, video_like, video_comment) VALUES (%s, %s, %s, %s, %s, %s, %s, %s);'\n",
    "\n",
    "for i, row in df.iterrows():\n",
    "    mycursor.execute(checkFormula, (row['videoId'], ))\n",
    "    if mycursor.fetchone() is not None: #check if it exists\n",
    "        #update\n",
    "        rowData = (\n",
    "            row['viewCount'],\n",
    "            row['likeCount'],\n",
    "            row['commentCount'],\n",
    "            row['videoId']\n",
    "        )\n",
    "        mycursor.execute(updateForumla, rowData)\n",
    "    else:\n",
    "        #insert\n",
    "        rowData = (\n",
    "            row['videoId'],\n",
    "            row['publishedAt'],\n",
    "            row['title'],\n",
    "            ', '.join(row['tags']),\n",
    "            row['duration'],\n",
    "            row['viewCount'],\n",
    "            row['likeCount'],\n",
    "            row['commentCount']\n",
    "        )\n",
    "        mycursor.execute(insertForumla, rowData)\n",
    "\n",
    "mydb.commit()\n"
   ]
  }
 ],
 "metadata": {
  "kernelspec": {
   "display_name": "base",
   "language": "python",
   "name": "python3"
  },
  "language_info": {
   "codemirror_mode": {
    "name": "ipython",
    "version": 3
   },
   "file_extension": ".py",
   "mimetype": "text/x-python",
   "name": "python",
   "nbconvert_exporter": "python",
   "pygments_lexer": "ipython3",
   "version": "3.8.8"
  },
  "orig_nbformat": 4
 },
 "nbformat": 4,
 "nbformat_minor": 2
}
